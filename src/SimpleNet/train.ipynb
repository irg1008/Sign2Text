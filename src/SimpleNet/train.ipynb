{
 "cells": [
  {
   "cell_type": "code",
   "execution_count": 1,
   "metadata": {},
   "outputs": [],
   "source": [
    "from utils.video_dataset import VideoFrameDataset\n",
    "from config.torch_config import get_transform, device\n",
    "from config.dataset import get_dataset_path\n"
   ]
  },
  {
   "cell_type": "code",
   "execution_count": 2,
   "metadata": {},
   "outputs": [],
   "source": [
    "NUM_SEGMENTS = 2\n",
    "FRAMES_PER_SEGMENT = 5\n",
    "BATCH_SIZE = 8\n",
    "IMAGE_SIZE = 224\n"
   ]
  },
  {
   "cell_type": "code",
   "execution_count": 3,
   "metadata": {},
   "outputs": [],
   "source": [
    "data_path, model_path = get_dataset_path()\n",
    "multiple_transform = get_transform(IMAGE_SIZE)\n"
   ]
  },
  {
   "cell_type": "code",
   "execution_count": 4,
   "metadata": {},
   "outputs": [],
   "source": [
    "dataset = VideoFrameDataset(\n",
    "    root_path=data_path,\n",
    "    transform=multiple_transform,\n",
    "    num_segments=NUM_SEGMENTS,\n",
    "    frames_per_segment=FRAMES_PER_SEGMENT,\n",
    ")\n",
    "\n",
    "classes = dataset.classes\n"
   ]
  },
  {
   "cell_type": "code",
   "execution_count": 5,
   "metadata": {},
   "outputs": [],
   "source": [
    "from utils.loader import split_dataset\n"
   ]
  },
  {
   "cell_type": "code",
   "execution_count": 6,
   "metadata": {},
   "outputs": [],
   "source": [
    "train_loader, test_loader, validation_loader = split_dataset(\n",
    "    dataset, train_split=0.7, validation_split=0.1, batch_size=BATCH_SIZE\n",
    ")\n"
   ]
  },
  {
   "cell_type": "code",
   "execution_count": 7,
   "metadata": {},
   "outputs": [
    {
     "name": "stdout",
     "output_type": "stream",
     "text": [
      "25 4 8\n"
     ]
    }
   ],
   "source": [
    "print(len(train_loader), len(validation_loader), len(test_loader))\n"
   ]
  },
  {
   "cell_type": "code",
   "execution_count": 8,
   "metadata": {},
   "outputs": [],
   "source": [
    "from utils.balance import check_balance_status\n"
   ]
  },
  {
   "cell_type": "code",
   "execution_count": 9,
   "metadata": {},
   "outputs": [],
   "source": [
    "# check_balance_status(test_loader, classes)\n",
    "# check_balance_status(train_loader, classes)\n"
   ]
  },
  {
   "cell_type": "code",
   "execution_count": 10,
   "metadata": {},
   "outputs": [],
   "source": [
    "from lib.simple_model import HPNet\n"
   ]
  },
  {
   "cell_type": "code",
   "execution_count": 11,
   "metadata": {},
   "outputs": [
    {
     "data": {
      "text/plain": [
       "HPNet(\n",
       "  (conv3d_1): Sequential(\n",
       "    (0): Conv3d(10, 32, kernel_size=(3, 3, 3), stride=(2, 2, 2), padding=(1, 1, 1))\n",
       "    (1): LeakyReLU(negative_slope=0.01)\n",
       "  )\n",
       "  (conv3d_2): Sequential(\n",
       "    (0): Conv3d(32, 64, kernel_size=(3, 3, 3), stride=(2, 2, 2), padding=(1, 1, 1))\n",
       "    (1): LeakyReLU(negative_slope=0.01)\n",
       "  )\n",
       "  (batch): BatchNorm3d(64, eps=1e-05, momentum=0.1, affine=True, track_running_stats=True)\n",
       "  (flat): Flatten(start_dim=2, end_dim=-1)\n",
       "  (lin_1): Sequential(\n",
       "    (0): Linear(in_features=3136, out_features=1568, bias=True)\n",
       "    (1): LeakyReLU(negative_slope=0.01)\n",
       "  )\n",
       "  (lin_2): Sequential(\n",
       "    (0): Linear(in_features=1568, out_features=784, bias=True)\n",
       "    (1): LeakyReLU(negative_slope=0.01)\n",
       "  )\n",
       "  (lin_3): Linear(in_features=784, out_features=10, bias=True)\n",
       "  (soft): LogSoftmax(dim=1)\n",
       "  (drop): Dropout(p=0.15, inplace=False)\n",
       "  (pool): MaxPool3d(kernel_size=2, stride=2, padding=0, dilation=1, ceil_mode=False)\n",
       ")"
      ]
     },
     "execution_count": 11,
     "metadata": {},
     "output_type": "execute_result"
    }
   ],
   "source": [
    "model = HPNet(\n",
    "    num_classes=len(classes),\n",
    "    batch_size=BATCH_SIZE,\n",
    "    num_frames=FRAMES_PER_SEGMENT * NUM_SEGMENTS,\n",
    "    image_size=IMAGE_SIZE,\n",
    ")\n",
    "model\n"
   ]
  },
  {
   "cell_type": "code",
   "execution_count": 12,
   "metadata": {},
   "outputs": [],
   "source": [
    "from lib.train import train_model\n"
   ]
  },
  {
   "cell_type": "code",
   "execution_count": 13,
   "metadata": {},
   "outputs": [
    {
     "name": "stdout",
     "output_type": "stream",
     "text": [
      "Training on device: cuda\n",
      "Conv1 torch.Size([8, 32, 2, 112, 112])\n",
      "Conv2 torch.Size([8, 64, 1, 56, 56])\n",
      "Batch torch.Size([8, 64, 1, 56, 56])\n",
      "View torch.Size([8, 200704])\n"
     ]
    },
    {
     "ename": "RuntimeError",
     "evalue": "mat1 and mat2 shapes cannot be multiplied (8x200704 and 3136x1568)",
     "output_type": "error",
     "traceback": [
      "\u001b[1;31m---------------------------------------------------------------------------\u001b[0m",
      "\u001b[1;31mRuntimeError\u001b[0m                              Traceback (most recent call last)",
      "Input \u001b[1;32mIn [13]\u001b[0m, in \u001b[0;36m<cell line: 1>\u001b[1;34m()\u001b[0m\n\u001b[1;32m----> 1\u001b[0m costs \u001b[39m=\u001b[39m train_model(\n\u001b[0;32m      2\u001b[0m     model, train_loader, validation_loader, device, learning_rate\u001b[39m=\u001b[39;49m\u001b[39m0.001\u001b[39;49m, num_epochs\u001b[39m=\u001b[39;49m\u001b[39m5\u001b[39;49m\n\u001b[0;32m      3\u001b[0m )\n",
      "File \u001b[1;32mc:\\Users\\Ivan\\Documents\\Projects\\TFG\\ubu-sign2text\\src\\SimpleNet\\lib\\train.py:52\u001b[0m, in \u001b[0;36mtrain_model\u001b[1;34m(model, train_loader, validation_loader, device, learning_rate, num_epochs)\u001b[0m\n\u001b[0;32m     <a href='file:///c%3A/Users/Ivan/Documents/Projects/TFG/ubu-sign2text/src/SimpleNet/lib/train.py?line=48'>49</a>\u001b[0m data, targets \u001b[39m=\u001b[39m data\u001b[39m.\u001b[39mto(device), targets\u001b[39m.\u001b[39mto(device)\n\u001b[0;32m     <a href='file:///c%3A/Users/Ivan/Documents/Projects/TFG/ubu-sign2text/src/SimpleNet/lib/train.py?line=50'>51</a>\u001b[0m \u001b[39m# forward.\u001b[39;00m\n\u001b[1;32m---> <a href='file:///c%3A/Users/Ivan/Documents/Projects/TFG/ubu-sign2text/src/SimpleNet/lib/train.py?line=51'>52</a>\u001b[0m scores \u001b[39m=\u001b[39m model(data)\n\u001b[0;32m     <a href='file:///c%3A/Users/Ivan/Documents/Projects/TFG/ubu-sign2text/src/SimpleNet/lib/train.py?line=52'>53</a>\u001b[0m loss \u001b[39m=\u001b[39m criterion(scores, targets)\n\u001b[0;32m     <a href='file:///c%3A/Users/Ivan/Documents/Projects/TFG/ubu-sign2text/src/SimpleNet/lib/train.py?line=53'>54</a>\u001b[0m test_losses\u001b[39m.\u001b[39mappend(loss\u001b[39m.\u001b[39mitem())\n",
      "File \u001b[1;32mc:\\Users\\Ivan\\Documents\\Projects\\TFG\\ubu-sign2text\\venv\\lib\\site-packages\\torch\\nn\\modules\\module.py:1102\u001b[0m, in \u001b[0;36mModule._call_impl\u001b[1;34m(self, *input, **kwargs)\u001b[0m\n\u001b[0;32m   <a href='file:///c%3A/Users/Ivan/Documents/Projects/TFG/ubu-sign2text/venv/lib/site-packages/torch/nn/modules/module.py?line=1097'>1098</a>\u001b[0m \u001b[39m# If we don't have any hooks, we want to skip the rest of the logic in\u001b[39;00m\n\u001b[0;32m   <a href='file:///c%3A/Users/Ivan/Documents/Projects/TFG/ubu-sign2text/venv/lib/site-packages/torch/nn/modules/module.py?line=1098'>1099</a>\u001b[0m \u001b[39m# this function, and just call forward.\u001b[39;00m\n\u001b[0;32m   <a href='file:///c%3A/Users/Ivan/Documents/Projects/TFG/ubu-sign2text/venv/lib/site-packages/torch/nn/modules/module.py?line=1099'>1100</a>\u001b[0m \u001b[39mif\u001b[39;00m \u001b[39mnot\u001b[39;00m (\u001b[39mself\u001b[39m\u001b[39m.\u001b[39m_backward_hooks \u001b[39mor\u001b[39;00m \u001b[39mself\u001b[39m\u001b[39m.\u001b[39m_forward_hooks \u001b[39mor\u001b[39;00m \u001b[39mself\u001b[39m\u001b[39m.\u001b[39m_forward_pre_hooks \u001b[39mor\u001b[39;00m _global_backward_hooks\n\u001b[0;32m   <a href='file:///c%3A/Users/Ivan/Documents/Projects/TFG/ubu-sign2text/venv/lib/site-packages/torch/nn/modules/module.py?line=1100'>1101</a>\u001b[0m         \u001b[39mor\u001b[39;00m _global_forward_hooks \u001b[39mor\u001b[39;00m _global_forward_pre_hooks):\n\u001b[1;32m-> <a href='file:///c%3A/Users/Ivan/Documents/Projects/TFG/ubu-sign2text/venv/lib/site-packages/torch/nn/modules/module.py?line=1101'>1102</a>\u001b[0m     \u001b[39mreturn\u001b[39;00m forward_call(\u001b[39m*\u001b[39m\u001b[39minput\u001b[39m, \u001b[39m*\u001b[39m\u001b[39m*\u001b[39mkwargs)\n\u001b[0;32m   <a href='file:///c%3A/Users/Ivan/Documents/Projects/TFG/ubu-sign2text/venv/lib/site-packages/torch/nn/modules/module.py?line=1102'>1103</a>\u001b[0m \u001b[39m# Do not call functions when jit is used\u001b[39;00m\n\u001b[0;32m   <a href='file:///c%3A/Users/Ivan/Documents/Projects/TFG/ubu-sign2text/venv/lib/site-packages/torch/nn/modules/module.py?line=1103'>1104</a>\u001b[0m full_backward_hooks, non_full_backward_hooks \u001b[39m=\u001b[39m [], []\n",
      "File \u001b[1;32mc:\\Users\\Ivan\\Documents\\Projects\\TFG\\ubu-sign2text\\src\\SimpleNet\\lib\\simple_model.py:104\u001b[0m, in \u001b[0;36mHPNet.forward\u001b[1;34m(self, x)\u001b[0m\n\u001b[0;32m    <a href='file:///c%3A/Users/Ivan/Documents/Projects/TFG/ubu-sign2text/src/SimpleNet/lib/simple_model.py?line=100'>101</a>\u001b[0m out \u001b[39m=\u001b[39m out\u001b[39m.\u001b[39mview(out\u001b[39m.\u001b[39msize(\u001b[39m0\u001b[39m), \u001b[39m-\u001b[39m\u001b[39m1\u001b[39m)\n\u001b[0;32m    <a href='file:///c%3A/Users/Ivan/Documents/Projects/TFG/ubu-sign2text/src/SimpleNet/lib/simple_model.py?line=101'>102</a>\u001b[0m \u001b[39mprint\u001b[39m(\u001b[39m\"\u001b[39m\u001b[39mView\u001b[39m\u001b[39m\"\u001b[39m, out\u001b[39m.\u001b[39mshape)\n\u001b[1;32m--> <a href='file:///c%3A/Users/Ivan/Documents/Projects/TFG/ubu-sign2text/src/SimpleNet/lib/simple_model.py?line=103'>104</a>\u001b[0m out \u001b[39m=\u001b[39m \u001b[39mself\u001b[39;49m\u001b[39m.\u001b[39;49mlin_1(out)\n\u001b[0;32m    <a href='file:///c%3A/Users/Ivan/Documents/Projects/TFG/ubu-sign2text/src/SimpleNet/lib/simple_model.py?line=104'>105</a>\u001b[0m \u001b[39mprint\u001b[39m(\u001b[39m\"\u001b[39m\u001b[39mLin 1\u001b[39m\u001b[39m\"\u001b[39m, out\u001b[39m.\u001b[39mshape)\n\u001b[0;32m    <a href='file:///c%3A/Users/Ivan/Documents/Projects/TFG/ubu-sign2text/src/SimpleNet/lib/simple_model.py?line=106'>107</a>\u001b[0m out \u001b[39m=\u001b[39m \u001b[39mself\u001b[39m\u001b[39m.\u001b[39mlin_2(out)\n",
      "File \u001b[1;32mc:\\Users\\Ivan\\Documents\\Projects\\TFG\\ubu-sign2text\\venv\\lib\\site-packages\\torch\\nn\\modules\\module.py:1102\u001b[0m, in \u001b[0;36mModule._call_impl\u001b[1;34m(self, *input, **kwargs)\u001b[0m\n\u001b[0;32m   <a href='file:///c%3A/Users/Ivan/Documents/Projects/TFG/ubu-sign2text/venv/lib/site-packages/torch/nn/modules/module.py?line=1097'>1098</a>\u001b[0m \u001b[39m# If we don't have any hooks, we want to skip the rest of the logic in\u001b[39;00m\n\u001b[0;32m   <a href='file:///c%3A/Users/Ivan/Documents/Projects/TFG/ubu-sign2text/venv/lib/site-packages/torch/nn/modules/module.py?line=1098'>1099</a>\u001b[0m \u001b[39m# this function, and just call forward.\u001b[39;00m\n\u001b[0;32m   <a href='file:///c%3A/Users/Ivan/Documents/Projects/TFG/ubu-sign2text/venv/lib/site-packages/torch/nn/modules/module.py?line=1099'>1100</a>\u001b[0m \u001b[39mif\u001b[39;00m \u001b[39mnot\u001b[39;00m (\u001b[39mself\u001b[39m\u001b[39m.\u001b[39m_backward_hooks \u001b[39mor\u001b[39;00m \u001b[39mself\u001b[39m\u001b[39m.\u001b[39m_forward_hooks \u001b[39mor\u001b[39;00m \u001b[39mself\u001b[39m\u001b[39m.\u001b[39m_forward_pre_hooks \u001b[39mor\u001b[39;00m _global_backward_hooks\n\u001b[0;32m   <a href='file:///c%3A/Users/Ivan/Documents/Projects/TFG/ubu-sign2text/venv/lib/site-packages/torch/nn/modules/module.py?line=1100'>1101</a>\u001b[0m         \u001b[39mor\u001b[39;00m _global_forward_hooks \u001b[39mor\u001b[39;00m _global_forward_pre_hooks):\n\u001b[1;32m-> <a href='file:///c%3A/Users/Ivan/Documents/Projects/TFG/ubu-sign2text/venv/lib/site-packages/torch/nn/modules/module.py?line=1101'>1102</a>\u001b[0m     \u001b[39mreturn\u001b[39;00m forward_call(\u001b[39m*\u001b[39m\u001b[39minput\u001b[39m, \u001b[39m*\u001b[39m\u001b[39m*\u001b[39mkwargs)\n\u001b[0;32m   <a href='file:///c%3A/Users/Ivan/Documents/Projects/TFG/ubu-sign2text/venv/lib/site-packages/torch/nn/modules/module.py?line=1102'>1103</a>\u001b[0m \u001b[39m# Do not call functions when jit is used\u001b[39;00m\n\u001b[0;32m   <a href='file:///c%3A/Users/Ivan/Documents/Projects/TFG/ubu-sign2text/venv/lib/site-packages/torch/nn/modules/module.py?line=1103'>1104</a>\u001b[0m full_backward_hooks, non_full_backward_hooks \u001b[39m=\u001b[39m [], []\n",
      "File \u001b[1;32mc:\\Users\\Ivan\\Documents\\Projects\\TFG\\ubu-sign2text\\venv\\lib\\site-packages\\torch\\nn\\modules\\container.py:141\u001b[0m, in \u001b[0;36mSequential.forward\u001b[1;34m(self, input)\u001b[0m\n\u001b[0;32m    <a href='file:///c%3A/Users/Ivan/Documents/Projects/TFG/ubu-sign2text/venv/lib/site-packages/torch/nn/modules/container.py?line=138'>139</a>\u001b[0m \u001b[39mdef\u001b[39;00m \u001b[39mforward\u001b[39m(\u001b[39mself\u001b[39m, \u001b[39minput\u001b[39m):\n\u001b[0;32m    <a href='file:///c%3A/Users/Ivan/Documents/Projects/TFG/ubu-sign2text/venv/lib/site-packages/torch/nn/modules/container.py?line=139'>140</a>\u001b[0m     \u001b[39mfor\u001b[39;00m module \u001b[39min\u001b[39;00m \u001b[39mself\u001b[39m:\n\u001b[1;32m--> <a href='file:///c%3A/Users/Ivan/Documents/Projects/TFG/ubu-sign2text/venv/lib/site-packages/torch/nn/modules/container.py?line=140'>141</a>\u001b[0m         \u001b[39minput\u001b[39m \u001b[39m=\u001b[39m module(\u001b[39minput\u001b[39;49m)\n\u001b[0;32m    <a href='file:///c%3A/Users/Ivan/Documents/Projects/TFG/ubu-sign2text/venv/lib/site-packages/torch/nn/modules/container.py?line=141'>142</a>\u001b[0m     \u001b[39mreturn\u001b[39;00m \u001b[39minput\u001b[39m\n",
      "File \u001b[1;32mc:\\Users\\Ivan\\Documents\\Projects\\TFG\\ubu-sign2text\\venv\\lib\\site-packages\\torch\\nn\\modules\\module.py:1102\u001b[0m, in \u001b[0;36mModule._call_impl\u001b[1;34m(self, *input, **kwargs)\u001b[0m\n\u001b[0;32m   <a href='file:///c%3A/Users/Ivan/Documents/Projects/TFG/ubu-sign2text/venv/lib/site-packages/torch/nn/modules/module.py?line=1097'>1098</a>\u001b[0m \u001b[39m# If we don't have any hooks, we want to skip the rest of the logic in\u001b[39;00m\n\u001b[0;32m   <a href='file:///c%3A/Users/Ivan/Documents/Projects/TFG/ubu-sign2text/venv/lib/site-packages/torch/nn/modules/module.py?line=1098'>1099</a>\u001b[0m \u001b[39m# this function, and just call forward.\u001b[39;00m\n\u001b[0;32m   <a href='file:///c%3A/Users/Ivan/Documents/Projects/TFG/ubu-sign2text/venv/lib/site-packages/torch/nn/modules/module.py?line=1099'>1100</a>\u001b[0m \u001b[39mif\u001b[39;00m \u001b[39mnot\u001b[39;00m (\u001b[39mself\u001b[39m\u001b[39m.\u001b[39m_backward_hooks \u001b[39mor\u001b[39;00m \u001b[39mself\u001b[39m\u001b[39m.\u001b[39m_forward_hooks \u001b[39mor\u001b[39;00m \u001b[39mself\u001b[39m\u001b[39m.\u001b[39m_forward_pre_hooks \u001b[39mor\u001b[39;00m _global_backward_hooks\n\u001b[0;32m   <a href='file:///c%3A/Users/Ivan/Documents/Projects/TFG/ubu-sign2text/venv/lib/site-packages/torch/nn/modules/module.py?line=1100'>1101</a>\u001b[0m         \u001b[39mor\u001b[39;00m _global_forward_hooks \u001b[39mor\u001b[39;00m _global_forward_pre_hooks):\n\u001b[1;32m-> <a href='file:///c%3A/Users/Ivan/Documents/Projects/TFG/ubu-sign2text/venv/lib/site-packages/torch/nn/modules/module.py?line=1101'>1102</a>\u001b[0m     \u001b[39mreturn\u001b[39;00m forward_call(\u001b[39m*\u001b[39m\u001b[39minput\u001b[39m, \u001b[39m*\u001b[39m\u001b[39m*\u001b[39mkwargs)\n\u001b[0;32m   <a href='file:///c%3A/Users/Ivan/Documents/Projects/TFG/ubu-sign2text/venv/lib/site-packages/torch/nn/modules/module.py?line=1102'>1103</a>\u001b[0m \u001b[39m# Do not call functions when jit is used\u001b[39;00m\n\u001b[0;32m   <a href='file:///c%3A/Users/Ivan/Documents/Projects/TFG/ubu-sign2text/venv/lib/site-packages/torch/nn/modules/module.py?line=1103'>1104</a>\u001b[0m full_backward_hooks, non_full_backward_hooks \u001b[39m=\u001b[39m [], []\n",
      "File \u001b[1;32mc:\\Users\\Ivan\\Documents\\Projects\\TFG\\ubu-sign2text\\venv\\lib\\site-packages\\torch\\nn\\modules\\linear.py:103\u001b[0m, in \u001b[0;36mLinear.forward\u001b[1;34m(self, input)\u001b[0m\n\u001b[0;32m    <a href='file:///c%3A/Users/Ivan/Documents/Projects/TFG/ubu-sign2text/venv/lib/site-packages/torch/nn/modules/linear.py?line=101'>102</a>\u001b[0m \u001b[39mdef\u001b[39;00m \u001b[39mforward\u001b[39m(\u001b[39mself\u001b[39m, \u001b[39minput\u001b[39m: Tensor) \u001b[39m-\u001b[39m\u001b[39m>\u001b[39m Tensor:\n\u001b[1;32m--> <a href='file:///c%3A/Users/Ivan/Documents/Projects/TFG/ubu-sign2text/venv/lib/site-packages/torch/nn/modules/linear.py?line=102'>103</a>\u001b[0m     \u001b[39mreturn\u001b[39;00m F\u001b[39m.\u001b[39;49mlinear(\u001b[39minput\u001b[39;49m, \u001b[39mself\u001b[39;49m\u001b[39m.\u001b[39;49mweight, \u001b[39mself\u001b[39;49m\u001b[39m.\u001b[39;49mbias)\n",
      "File \u001b[1;32mc:\\Users\\Ivan\\Documents\\Projects\\TFG\\ubu-sign2text\\venv\\lib\\site-packages\\torch\\nn\\functional.py:1848\u001b[0m, in \u001b[0;36mlinear\u001b[1;34m(input, weight, bias)\u001b[0m\n\u001b[0;32m   <a href='file:///c%3A/Users/Ivan/Documents/Projects/TFG/ubu-sign2text/venv/lib/site-packages/torch/nn/functional.py?line=1845'>1846</a>\u001b[0m \u001b[39mif\u001b[39;00m has_torch_function_variadic(\u001b[39minput\u001b[39m, weight, bias):\n\u001b[0;32m   <a href='file:///c%3A/Users/Ivan/Documents/Projects/TFG/ubu-sign2text/venv/lib/site-packages/torch/nn/functional.py?line=1846'>1847</a>\u001b[0m     \u001b[39mreturn\u001b[39;00m handle_torch_function(linear, (\u001b[39minput\u001b[39m, weight, bias), \u001b[39minput\u001b[39m, weight, bias\u001b[39m=\u001b[39mbias)\n\u001b[1;32m-> <a href='file:///c%3A/Users/Ivan/Documents/Projects/TFG/ubu-sign2text/venv/lib/site-packages/torch/nn/functional.py?line=1847'>1848</a>\u001b[0m \u001b[39mreturn\u001b[39;00m torch\u001b[39m.\u001b[39;49m_C\u001b[39m.\u001b[39;49m_nn\u001b[39m.\u001b[39;49mlinear(\u001b[39minput\u001b[39;49m, weight, bias)\n",
      "\u001b[1;31mRuntimeError\u001b[0m: mat1 and mat2 shapes cannot be multiplied (8x200704 and 3136x1568)"
     ]
    }
   ],
   "source": [
    "costs = train_model(\n",
    "    model, train_loader, validation_loader, device, learning_rate=0.001, num_epochs=5\n",
    ")\n"
   ]
  },
  {
   "cell_type": "code",
   "execution_count": null,
   "metadata": {},
   "outputs": [],
   "source": [
    "from lib.test import check_accuracy\n"
   ]
  },
  {
   "cell_type": "code",
   "execution_count": null,
   "metadata": {},
   "outputs": [
    {
     "name": "stdout",
     "output_type": "stream",
     "text": [
      "Predictions for batch 1 \n",
      "['before', 'before', 'before', 'before', 'before', 'before', 'before', 'before']\n",
      "Ground truth for batch 1\n",
      "['book', 'drink', 'drink', 'go', 'book', 'go', 'drink', 'drink']\n",
      "---------------------------------\n",
      "\n",
      "\n",
      "Got 0 / 8 with accuracy 0.00\n"
     ]
    }
   ],
   "source": [
    "check_accuracy(train_loader, model, classes, device)\n"
   ]
  }
 ],
 "metadata": {
  "interpreter": {
   "hash": "8bfe9cfaa53a0a12b87966855e804ecb071100acc47ffaa02561825ee5a76659"
  },
  "kernelspec": {
   "display_name": "Python 3.9.8 ('venv': venv)",
   "language": "python",
   "name": "python3"
  },
  "language_info": {
   "codemirror_mode": {
    "name": "ipython",
    "version": 3
   },
   "file_extension": ".py",
   "mimetype": "text/x-python",
   "name": "python",
   "nbconvert_exporter": "python",
   "pygments_lexer": "ipython3",
   "version": "3.9.8"
  },
  "orig_nbformat": 4
 },
 "nbformat": 4,
 "nbformat_minor": 2
}
