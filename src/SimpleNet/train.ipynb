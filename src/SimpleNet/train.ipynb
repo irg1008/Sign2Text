{
 "cells": [
  {
   "cell_type": "code",
   "execution_count": 1,
   "metadata": {},
   "outputs": [],
   "source": [
    "from utils.video_dataset import VideoFrameDataset\n",
    "from config.torch_config import multiple_transform, device\n",
    "from config.dataset import get_dataset_path\n"
   ]
  },
  {
   "cell_type": "code",
   "execution_count": 2,
   "metadata": {},
   "outputs": [],
   "source": [
    "NUM_SEGMENTS = 1\n",
    "FRAMES_PER_SEGMENT = 5\n",
    "BATCH_SIZE = 64"
   ]
  },
  {
   "cell_type": "code",
   "execution_count": 3,
   "metadata": {},
   "outputs": [],
   "source": [
    "data_path, model_path = get_dataset_path()\n"
   ]
  },
  {
   "cell_type": "code",
   "execution_count": 4,
   "metadata": {},
   "outputs": [],
   "source": [
    "dataset = VideoFrameDataset(\n",
    "    root_path=data_path,\n",
    "    transform=multiple_transform,\n",
    "    num_segments=NUM_SEGMENTS,\n",
    "    frames_per_segment=FRAMES_PER_SEGMENT,\n",
    ")\n",
    "\n",
    "classes = dataset.classes\n"
   ]
  },
  {
   "cell_type": "code",
   "execution_count": 5,
   "metadata": {},
   "outputs": [],
   "source": [
    "from utils.loader import split_dataset\n"
   ]
  },
  {
   "cell_type": "code",
   "execution_count": 6,
   "metadata": {},
   "outputs": [],
   "source": [
    "train_loader, test_loader = split_dataset(\n",
    "    dataset, train_split=0.7, batch_size=BATCH_SIZE\n",
    ")\n"
   ]
  },
  {
   "cell_type": "code",
   "execution_count": 7,
   "metadata": {},
   "outputs": [],
   "source": [
    "from utils.balance import check_balance_status"
   ]
  },
  {
   "cell_type": "code",
   "execution_count": 8,
   "metadata": {},
   "outputs": [],
   "source": [
    "# check_balance_status(test_loader, classes)\n",
    "# check_balance_status(train_loader, classes)\n"
   ]
  },
  {
   "cell_type": "code",
   "execution_count": 9,
   "metadata": {},
   "outputs": [],
   "source": [
    "from lib.simple_model import CNNModel, SimpleNet, CNN3D, HPNet\n",
    "from lib.model import R3DClassifier\n"
   ]
  },
  {
   "cell_type": "code",
   "execution_count": 10,
   "metadata": {},
   "outputs": [],
   "source": [
    "# model = R3DClassifier(len(classes), (BATCH_SIZE, FRAMES_PER_SEGMENT, 3, 224, 224), pretrained=True)\n",
    "# model = CNNModel(len(classes))\n",
    "# # model = SimpleNet(len(classes))\n",
    "# model = R3DClassifier(\n",
    "#     len(classes), (BATCH_SIZE, FRAMES_PER_SEGMENT, 3, 32, 32), pretrained=True\n",
    "# )\n",
    "\n",
    "# model = CNN3D(t_dim=FRAMES_PER_SEGMENT, img_x=224, img_y=224, num_classes=len(classes))\n"
   ]
  },
  {
   "cell_type": "code",
   "execution_count": 11,
   "metadata": {},
   "outputs": [
    {
     "data": {
      "text/plain": [
       "HPNet(\n",
       "  (conv3d_1): Sequential(\n",
       "    (0): Conv3d(5, 32, kernel_size=(3, 3, 3), stride=(2, 2, 2), padding=(1, 1, 1))\n",
       "    (1): LeakyReLU(negative_slope=0.01)\n",
       "  )\n",
       "  (conv3d_2): Sequential(\n",
       "    (0): Conv3d(32, 64, kernel_size=(3, 3, 3), stride=(2, 2, 2), padding=(1, 1, 1))\n",
       "    (1): LeakyReLU(negative_slope=0.01)\n",
       "  )\n",
       "  (batch): BatchNorm3d(64, eps=1e-05, momentum=0.1, affine=True, track_running_stats=True)\n",
       "  (flat): Flatten(start_dim=2, end_dim=-1)\n",
       "  (lin_1): Sequential(\n",
       "    (0): Linear(in_features=3136, out_features=1568, bias=True)\n",
       "    (1): LeakyReLU(negative_slope=0.01)\n",
       "  )\n",
       "  (lin_2): Sequential(\n",
       "    (0): Linear(in_features=1568, out_features=784, bias=True)\n",
       "    (1): LeakyReLU(negative_slope=0.01)\n",
       "  )\n",
       "  (lin_3): Linear(in_features=784, out_features=10, bias=True)\n",
       "  (soft): Softmax(dim=1)\n",
       "  (loss): NLLLoss()\n",
       "  (drop): Dropout(p=0.15, inplace=False)\n",
       ")"
      ]
     },
     "execution_count": 11,
     "metadata": {},
     "output_type": "execute_result"
    }
   ],
   "source": [
    "model = HPNet(\n",
    "    num_classes=len(classes),\n",
    "    batch_size=BATCH_SIZE,\n",
    "    num_frames=FRAMES_PER_SEGMENT,\n",
    "    image_size=224,\n",
    ")\n",
    "model"
   ]
  },
  {
   "cell_type": "code",
   "execution_count": 12,
   "metadata": {},
   "outputs": [],
   "source": [
    "from lib.train import train_model"
   ]
  },
  {
   "cell_type": "code",
   "execution_count": 13,
   "metadata": {},
   "outputs": [
    {
     "name": "stdout",
     "output_type": "stream",
     "text": [
      "Training on device: cuda\n",
      "Cost at epoch 1 is 6.44839\n",
      "Cost at epoch 2 is 6.09808\n",
      "Cost at epoch 3 is 5.75405\n",
      "Cost at epoch 4 is 5.50406\n",
      "Cost at epoch 5 is 5.48797\n",
      "Cost at epoch 6 is 5.48796\n",
      "Cost at epoch 7 is 5.48796\n",
      "Cost at epoch 8 is 5.48796\n",
      "Cost at epoch 9 is 5.48796\n"
     ]
    },
    {
     "ename": "KeyboardInterrupt",
     "evalue": "",
     "output_type": "error",
     "traceback": [
      "\u001b[1;31m---------------------------------------------------------------------------\u001b[0m",
      "\u001b[1;31mKeyboardInterrupt\u001b[0m                         Traceback (most recent call last)",
      "Input \u001b[1;32mIn [13]\u001b[0m, in \u001b[0;36m<cell line: 1>\u001b[1;34m()\u001b[0m\n\u001b[1;32m----> 1\u001b[0m train_model(model, train_loader, device, learning_rate\u001b[39m=\u001b[39;49m\u001b[39m0.001\u001b[39;49m, num_epochs\u001b[39m=\u001b[39;49m\u001b[39m10\u001b[39;49m)\n",
      "File \u001b[1;32mc:\\Users\\Ivan\\Documents\\Projects\\TFG\\ubu-sign2text\\src\\SimpleNet\\lib\\train.py:44\u001b[0m, in \u001b[0;36mtrain_model\u001b[1;34m(model, train_loader, device, learning_rate, num_epochs)\u001b[0m\n\u001b[0;32m     <a href='file:///c%3A/Users/Ivan/Documents/Projects/TFG/ubu-sign2text/src/SimpleNet/lib/train.py?line=40'>41</a>\u001b[0m \u001b[39mfor\u001b[39;00m epoch \u001b[39min\u001b[39;00m \u001b[39mrange\u001b[39m(num_epochs):\n\u001b[0;32m     <a href='file:///c%3A/Users/Ivan/Documents/Projects/TFG/ubu-sign2text/src/SimpleNet/lib/train.py?line=41'>42</a>\u001b[0m     losses \u001b[39m=\u001b[39m []\n\u001b[1;32m---> <a href='file:///c%3A/Users/Ivan/Documents/Projects/TFG/ubu-sign2text/src/SimpleNet/lib/train.py?line=43'>44</a>\u001b[0m     \u001b[39mfor\u001b[39;00m data, targets \u001b[39min\u001b[39;00m train_loader:\n\u001b[0;32m     <a href='file:///c%3A/Users/Ivan/Documents/Projects/TFG/ubu-sign2text/src/SimpleNet/lib/train.py?line=44'>45</a>\u001b[0m         data, targets \u001b[39m=\u001b[39m data\u001b[39m.\u001b[39mto(device), targets\u001b[39m.\u001b[39mto(device)\n\u001b[0;32m     <a href='file:///c%3A/Users/Ivan/Documents/Projects/TFG/ubu-sign2text/src/SimpleNet/lib/train.py?line=46'>47</a>\u001b[0m         \u001b[39m# forward.\u001b[39;00m\n",
      "File \u001b[1;32mc:\\Users\\Ivan\\Documents\\Projects\\TFG\\ubu-sign2text\\venv\\lib\\site-packages\\torch\\utils\\data\\dataloader.py:521\u001b[0m, in \u001b[0;36m_BaseDataLoaderIter.__next__\u001b[1;34m(self)\u001b[0m\n\u001b[0;32m    <a href='file:///c%3A/Users/Ivan/Documents/Projects/TFG/ubu-sign2text/venv/lib/site-packages/torch/utils/data/dataloader.py?line=518'>519</a>\u001b[0m \u001b[39mif\u001b[39;00m \u001b[39mself\u001b[39m\u001b[39m.\u001b[39m_sampler_iter \u001b[39mis\u001b[39;00m \u001b[39mNone\u001b[39;00m:\n\u001b[0;32m    <a href='file:///c%3A/Users/Ivan/Documents/Projects/TFG/ubu-sign2text/venv/lib/site-packages/torch/utils/data/dataloader.py?line=519'>520</a>\u001b[0m     \u001b[39mself\u001b[39m\u001b[39m.\u001b[39m_reset()\n\u001b[1;32m--> <a href='file:///c%3A/Users/Ivan/Documents/Projects/TFG/ubu-sign2text/venv/lib/site-packages/torch/utils/data/dataloader.py?line=520'>521</a>\u001b[0m data \u001b[39m=\u001b[39m \u001b[39mself\u001b[39;49m\u001b[39m.\u001b[39;49m_next_data()\n\u001b[0;32m    <a href='file:///c%3A/Users/Ivan/Documents/Projects/TFG/ubu-sign2text/venv/lib/site-packages/torch/utils/data/dataloader.py?line=521'>522</a>\u001b[0m \u001b[39mself\u001b[39m\u001b[39m.\u001b[39m_num_yielded \u001b[39m+\u001b[39m\u001b[39m=\u001b[39m \u001b[39m1\u001b[39m\n\u001b[0;32m    <a href='file:///c%3A/Users/Ivan/Documents/Projects/TFG/ubu-sign2text/venv/lib/site-packages/torch/utils/data/dataloader.py?line=522'>523</a>\u001b[0m \u001b[39mif\u001b[39;00m \u001b[39mself\u001b[39m\u001b[39m.\u001b[39m_dataset_kind \u001b[39m==\u001b[39m _DatasetKind\u001b[39m.\u001b[39mIterable \u001b[39mand\u001b[39;00m \\\n\u001b[0;32m    <a href='file:///c%3A/Users/Ivan/Documents/Projects/TFG/ubu-sign2text/venv/lib/site-packages/torch/utils/data/dataloader.py?line=523'>524</a>\u001b[0m         \u001b[39mself\u001b[39m\u001b[39m.\u001b[39m_IterableDataset_len_called \u001b[39mis\u001b[39;00m \u001b[39mnot\u001b[39;00m \u001b[39mNone\u001b[39;00m \u001b[39mand\u001b[39;00m \\\n\u001b[0;32m    <a href='file:///c%3A/Users/Ivan/Documents/Projects/TFG/ubu-sign2text/venv/lib/site-packages/torch/utils/data/dataloader.py?line=524'>525</a>\u001b[0m         \u001b[39mself\u001b[39m\u001b[39m.\u001b[39m_num_yielded \u001b[39m>\u001b[39m \u001b[39mself\u001b[39m\u001b[39m.\u001b[39m_IterableDataset_len_called:\n",
      "File \u001b[1;32mc:\\Users\\Ivan\\Documents\\Projects\\TFG\\ubu-sign2text\\venv\\lib\\site-packages\\torch\\utils\\data\\dataloader.py:1175\u001b[0m, in \u001b[0;36m_MultiProcessingDataLoaderIter._next_data\u001b[1;34m(self)\u001b[0m\n\u001b[0;32m   <a href='file:///c%3A/Users/Ivan/Documents/Projects/TFG/ubu-sign2text/venv/lib/site-packages/torch/utils/data/dataloader.py?line=1171'>1172</a>\u001b[0m \u001b[39melse\u001b[39;00m:\n\u001b[0;32m   <a href='file:///c%3A/Users/Ivan/Documents/Projects/TFG/ubu-sign2text/venv/lib/site-packages/torch/utils/data/dataloader.py?line=1172'>1173</a>\u001b[0m     \u001b[39m# no valid `self._rcvd_idx` is found (i.e., didn't break)\u001b[39;00m\n\u001b[0;32m   <a href='file:///c%3A/Users/Ivan/Documents/Projects/TFG/ubu-sign2text/venv/lib/site-packages/torch/utils/data/dataloader.py?line=1173'>1174</a>\u001b[0m     \u001b[39mif\u001b[39;00m \u001b[39mnot\u001b[39;00m \u001b[39mself\u001b[39m\u001b[39m.\u001b[39m_persistent_workers:\n\u001b[1;32m-> <a href='file:///c%3A/Users/Ivan/Documents/Projects/TFG/ubu-sign2text/venv/lib/site-packages/torch/utils/data/dataloader.py?line=1174'>1175</a>\u001b[0m         \u001b[39mself\u001b[39;49m\u001b[39m.\u001b[39;49m_shutdown_workers()\n\u001b[0;32m   <a href='file:///c%3A/Users/Ivan/Documents/Projects/TFG/ubu-sign2text/venv/lib/site-packages/torch/utils/data/dataloader.py?line=1175'>1176</a>\u001b[0m     \u001b[39mraise\u001b[39;00m \u001b[39mStopIteration\u001b[39;00m\n\u001b[0;32m   <a href='file:///c%3A/Users/Ivan/Documents/Projects/TFG/ubu-sign2text/venv/lib/site-packages/torch/utils/data/dataloader.py?line=1177'>1178</a>\u001b[0m \u001b[39m# Now `self._rcvd_idx` is the batch index we want to fetch\u001b[39;00m\n\u001b[0;32m   <a href='file:///c%3A/Users/Ivan/Documents/Projects/TFG/ubu-sign2text/venv/lib/site-packages/torch/utils/data/dataloader.py?line=1178'>1179</a>\u001b[0m \n\u001b[0;32m   <a href='file:///c%3A/Users/Ivan/Documents/Projects/TFG/ubu-sign2text/venv/lib/site-packages/torch/utils/data/dataloader.py?line=1179'>1180</a>\u001b[0m \u001b[39m# Check if the next sample has already been generated\u001b[39;00m\n",
      "File \u001b[1;32mc:\\Users\\Ivan\\Documents\\Projects\\TFG\\ubu-sign2text\\venv\\lib\\site-packages\\torch\\utils\\data\\dataloader.py:1301\u001b[0m, in \u001b[0;36m_MultiProcessingDataLoaderIter._shutdown_workers\u001b[1;34m(self)\u001b[0m\n\u001b[0;32m   <a href='file:///c%3A/Users/Ivan/Documents/Projects/TFG/ubu-sign2text/venv/lib/site-packages/torch/utils/data/dataloader.py?line=1295'>1296</a>\u001b[0m         \u001b[39mself\u001b[39m\u001b[39m.\u001b[39m_mark_worker_as_unavailable(worker_id, shutdown\u001b[39m=\u001b[39m\u001b[39mTrue\u001b[39;00m)\n\u001b[0;32m   <a href='file:///c%3A/Users/Ivan/Documents/Projects/TFG/ubu-sign2text/venv/lib/site-packages/torch/utils/data/dataloader.py?line=1296'>1297</a>\u001b[0m \u001b[39mfor\u001b[39;00m w \u001b[39min\u001b[39;00m \u001b[39mself\u001b[39m\u001b[39m.\u001b[39m_workers:\n\u001b[0;32m   <a href='file:///c%3A/Users/Ivan/Documents/Projects/TFG/ubu-sign2text/venv/lib/site-packages/torch/utils/data/dataloader.py?line=1297'>1298</a>\u001b[0m     \u001b[39m# We should be able to join here, but in case anything went\u001b[39;00m\n\u001b[0;32m   <a href='file:///c%3A/Users/Ivan/Documents/Projects/TFG/ubu-sign2text/venv/lib/site-packages/torch/utils/data/dataloader.py?line=1298'>1299</a>\u001b[0m     \u001b[39m# wrong, we set a timeout and if the workers fail to join,\u001b[39;00m\n\u001b[0;32m   <a href='file:///c%3A/Users/Ivan/Documents/Projects/TFG/ubu-sign2text/venv/lib/site-packages/torch/utils/data/dataloader.py?line=1299'>1300</a>\u001b[0m     \u001b[39m# they are killed in the `finally` block.\u001b[39;00m\n\u001b[1;32m-> <a href='file:///c%3A/Users/Ivan/Documents/Projects/TFG/ubu-sign2text/venv/lib/site-packages/torch/utils/data/dataloader.py?line=1300'>1301</a>\u001b[0m     w\u001b[39m.\u001b[39;49mjoin(timeout\u001b[39m=\u001b[39;49m_utils\u001b[39m.\u001b[39;49mMP_STATUS_CHECK_INTERVAL)\n\u001b[0;32m   <a href='file:///c%3A/Users/Ivan/Documents/Projects/TFG/ubu-sign2text/venv/lib/site-packages/torch/utils/data/dataloader.py?line=1301'>1302</a>\u001b[0m \u001b[39mfor\u001b[39;00m q \u001b[39min\u001b[39;00m \u001b[39mself\u001b[39m\u001b[39m.\u001b[39m_index_queues:\n\u001b[0;32m   <a href='file:///c%3A/Users/Ivan/Documents/Projects/TFG/ubu-sign2text/venv/lib/site-packages/torch/utils/data/dataloader.py?line=1302'>1303</a>\u001b[0m     q\u001b[39m.\u001b[39mcancel_join_thread()\n",
      "File \u001b[1;32m~\\AppData\\Local\\Programs\\Python\\Python39\\lib\\multiprocessing\\process.py:149\u001b[0m, in \u001b[0;36mBaseProcess.join\u001b[1;34m(self, timeout)\u001b[0m\n\u001b[0;32m    <a href='file:///c%3A/Users/Ivan/AppData/Local/Programs/Python/Python39/lib/multiprocessing/process.py?line=146'>147</a>\u001b[0m \u001b[39massert\u001b[39;00m \u001b[39mself\u001b[39m\u001b[39m.\u001b[39m_parent_pid \u001b[39m==\u001b[39m os\u001b[39m.\u001b[39mgetpid(), \u001b[39m'\u001b[39m\u001b[39mcan only join a child process\u001b[39m\u001b[39m'\u001b[39m\n\u001b[0;32m    <a href='file:///c%3A/Users/Ivan/AppData/Local/Programs/Python/Python39/lib/multiprocessing/process.py?line=147'>148</a>\u001b[0m \u001b[39massert\u001b[39;00m \u001b[39mself\u001b[39m\u001b[39m.\u001b[39m_popen \u001b[39mis\u001b[39;00m \u001b[39mnot\u001b[39;00m \u001b[39mNone\u001b[39;00m, \u001b[39m'\u001b[39m\u001b[39mcan only join a started process\u001b[39m\u001b[39m'\u001b[39m\n\u001b[1;32m--> <a href='file:///c%3A/Users/Ivan/AppData/Local/Programs/Python/Python39/lib/multiprocessing/process.py?line=148'>149</a>\u001b[0m res \u001b[39m=\u001b[39m \u001b[39mself\u001b[39;49m\u001b[39m.\u001b[39;49m_popen\u001b[39m.\u001b[39;49mwait(timeout)\n\u001b[0;32m    <a href='file:///c%3A/Users/Ivan/AppData/Local/Programs/Python/Python39/lib/multiprocessing/process.py?line=149'>150</a>\u001b[0m \u001b[39mif\u001b[39;00m res \u001b[39mis\u001b[39;00m \u001b[39mnot\u001b[39;00m \u001b[39mNone\u001b[39;00m:\n\u001b[0;32m    <a href='file:///c%3A/Users/Ivan/AppData/Local/Programs/Python/Python39/lib/multiprocessing/process.py?line=150'>151</a>\u001b[0m     _children\u001b[39m.\u001b[39mdiscard(\u001b[39mself\u001b[39m)\n",
      "File \u001b[1;32m~\\AppData\\Local\\Programs\\Python\\Python39\\lib\\multiprocessing\\popen_spawn_win32.py:108\u001b[0m, in \u001b[0;36mPopen.wait\u001b[1;34m(self, timeout)\u001b[0m\n\u001b[0;32m    <a href='file:///c%3A/Users/Ivan/AppData/Local/Programs/Python/Python39/lib/multiprocessing/popen_spawn_win32.py?line=104'>105</a>\u001b[0m \u001b[39melse\u001b[39;00m:\n\u001b[0;32m    <a href='file:///c%3A/Users/Ivan/AppData/Local/Programs/Python/Python39/lib/multiprocessing/popen_spawn_win32.py?line=105'>106</a>\u001b[0m     msecs \u001b[39m=\u001b[39m \u001b[39mmax\u001b[39m(\u001b[39m0\u001b[39m, \u001b[39mint\u001b[39m(timeout \u001b[39m*\u001b[39m \u001b[39m1000\u001b[39m \u001b[39m+\u001b[39m \u001b[39m0.5\u001b[39m))\n\u001b[1;32m--> <a href='file:///c%3A/Users/Ivan/AppData/Local/Programs/Python/Python39/lib/multiprocessing/popen_spawn_win32.py?line=107'>108</a>\u001b[0m res \u001b[39m=\u001b[39m _winapi\u001b[39m.\u001b[39;49mWaitForSingleObject(\u001b[39mint\u001b[39;49m(\u001b[39mself\u001b[39;49m\u001b[39m.\u001b[39;49m_handle), msecs)\n\u001b[0;32m    <a href='file:///c%3A/Users/Ivan/AppData/Local/Programs/Python/Python39/lib/multiprocessing/popen_spawn_win32.py?line=108'>109</a>\u001b[0m \u001b[39mif\u001b[39;00m res \u001b[39m==\u001b[39m _winapi\u001b[39m.\u001b[39mWAIT_OBJECT_0:\n\u001b[0;32m    <a href='file:///c%3A/Users/Ivan/AppData/Local/Programs/Python/Python39/lib/multiprocessing/popen_spawn_win32.py?line=109'>110</a>\u001b[0m     code \u001b[39m=\u001b[39m _winapi\u001b[39m.\u001b[39mGetExitCodeProcess(\u001b[39mself\u001b[39m\u001b[39m.\u001b[39m_handle)\n",
      "\u001b[1;31mKeyboardInterrupt\u001b[0m: "
     ]
    }
   ],
   "source": [
    "train_model(model, train_loader, device, learning_rate=0.001, num_epochs=10)\n"
   ]
  }
 ],
 "metadata": {
  "interpreter": {
   "hash": "8bfe9cfaa53a0a12b87966855e804ecb071100acc47ffaa02561825ee5a76659"
  },
  "kernelspec": {
   "display_name": "Python 3.9.8 ('venv': venv)",
   "language": "python",
   "name": "python3"
  },
  "language_info": {
   "codemirror_mode": {
    "name": "ipython",
    "version": 3
   },
   "file_extension": ".py",
   "mimetype": "text/x-python",
   "name": "python",
   "nbconvert_exporter": "python",
   "pygments_lexer": "ipython3",
   "version": "3.9.8"
  },
  "orig_nbformat": 4
 },
 "nbformat": 4,
 "nbformat_minor": 2
}
