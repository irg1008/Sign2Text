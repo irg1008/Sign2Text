{
 "cells": [
  {
   "cell_type": "markdown",
   "metadata": {},
   "source": [
    "Using https://ensemble-pytorch.readthedocs.io/en/latest/parameters.html#voting"
   ]
  },
  {
   "cell_type": "code",
   "execution_count": 1,
   "metadata": {},
   "outputs": [],
   "source": [
    "import sys\n",
    "\n",
    "sys.path.insert(1, \"../\")\n",
    "\n",
    "from nets.SimpleNet.lib.simple_model import CNN\n",
    "from nets.SimpleNet.config.torch_config import get_transform\n",
    "from nets.SimpleNet.utils.video_dataset import VideoFrameDataset\n",
    "from nets.SimpleNet.config.dataset import get_dataset_path\n",
    "from nets.SimpleNet.utils.loader import split_dataset\n"
   ]
  },
  {
   "cell_type": "code",
   "execution_count": 2,
   "metadata": {},
   "outputs": [],
   "source": [
    "NUM_SEGMENTS = 10\n",
    "FRAMES_PER_SEGMENT = 5\n",
    "BATCH_SIZE = 16\n",
    "IMAGE_SIZE = 64\n",
    "IMAGE_RANDOM_CROP_RESIZE = 0.8\n",
    "NUM_EPOCHS = 5\n",
    "LEARNING_RATE = 1e-3\n",
    "DEBUG = False\n",
    "\n"
   ]
  },
  {
   "cell_type": "code",
   "execution_count": 3,
   "metadata": {},
   "outputs": [],
   "source": [
    "data_path, model_path = get_dataset_path(dataset=\"WLASL/videos\", model_name=\"WLASL\")"
   ]
  },
  {
   "cell_type": "code",
   "execution_count": 4,
   "metadata": {},
   "outputs": [],
   "source": [
    "multiple_transform = get_transform(IMAGE_SIZE, IMAGE_RANDOM_CROP_RESIZE)"
   ]
  },
  {
   "cell_type": "code",
   "execution_count": 5,
   "metadata": {},
   "outputs": [
    {
     "name": "stdout",
     "output_type": "stream",
     "text": [
      "['before', 'book', 'candy', 'chair', 'clothes']\n"
     ]
    }
   ],
   "source": [
    "dataset = VideoFrameDataset(\n",
    "    root_path=data_path,\n",
    "    transform=multiple_transform,\n",
    "    num_segments=NUM_SEGMENTS,\n",
    "    frames_per_segment=FRAMES_PER_SEGMENT,\n",
    ")\n",
    "\n",
    "classes = dataset.classes\n",
    "print(classes)\n"
   ]
  },
  {
   "cell_type": "code",
   "execution_count": 6,
   "metadata": {},
   "outputs": [],
   "source": [
    "train_loader, test_loader, validation_loader = split_dataset(\n",
    "    dataset, train_split=0.70, validation_split=0.1, batch_size=BATCH_SIZE\n",
    ")\n"
   ]
  },
  {
   "cell_type": "code",
   "execution_count": 7,
   "metadata": {},
   "outputs": [],
   "source": [
    "from torchensemble import VotingClassifier\n",
    "\n",
    "ensemble = VotingClassifier(\n",
    "    estimator=CNN,\n",
    "    n_estimators=10,\n",
    "    cuda=True,\n",
    "    estimator_args={\n",
    "        \"num_classes\": len(classes),\n",
    "        \"batch_size\": BATCH_SIZE,\n",
    "        \"num_frames\": FRAMES_PER_SEGMENT * NUM_SEGMENTS,\n",
    "        \"image_size\": int(IMAGE_SIZE * IMAGE_RANDOM_CROP_RESIZE),\n",
    "        \"debug\": DEBUG,\n",
    "    },\n",
    ")\n"
   ]
  },
  {
   "cell_type": "code",
   "execution_count": 8,
   "metadata": {},
   "outputs": [],
   "source": [
    "from torch import nn, optim\n",
    "\n",
    "ensemble.set_criterion(nn.CrossEntropyLoss())\n",
    "ensemble.set_optimizer(\"Adam\", lr=LEARNING_RATE)\n",
    "# ensemble.set_scheduler(\n",
    "#     \"ReduceLROnPlateau\", mode=\"min\", min_lr=1e-6, factor=0.7, patience=5\n",
    "# )\n",
    "ensemble.set_scheduler(\n",
    "    \"CosineAnnealingLR\",                    # type of learning rate scheduler\n",
    "    T_max=NUM_EPOCHS,                           # additional arguments on the scheduler\n",
    ")"
   ]
  },
  {
   "cell_type": "code",
   "execution_count": 9,
   "metadata": {},
   "outputs": [
    {
     "name": "stdout",
     "output_type": "stream",
     "text": [
      "Estimator: 000 | Epoch: 000 | Batch: 000 | Loss: 1.61338 | Correct: 4/16\n",
      "Estimator: 001 | Epoch: 000 | Batch: 000 | Loss: 1.60008 | Correct: 5/16\n",
      "Estimator: 002 | Epoch: 000 | Batch: 000 | Loss: 1.62123 | Correct: 4/16\n",
      "Estimator: 003 | Epoch: 000 | Batch: 000 | Loss: 1.62183 | Correct: 2/16\n",
      "Estimator: 004 | Epoch: 000 | Batch: 000 | Loss: 1.70372 | Correct: 1/16\n",
      "Estimator: 005 | Epoch: 000 | Batch: 000 | Loss: 1.69355 | Correct: 0/16\n",
      "Estimator: 006 | Epoch: 000 | Batch: 000 | Loss: 1.62975 | Correct: 5/16\n",
      "Estimator: 007 | Epoch: 000 | Batch: 000 | Loss: 1.67745 | Correct: 3/16\n",
      "Estimator: 008 | Epoch: 000 | Batch: 000 | Loss: 1.67161 | Correct: 1/16\n",
      "Estimator: 009 | Epoch: 000 | Batch: 000 | Loss: 1.55708 | Correct: 5/16\n",
      "Estimator: 000 | Epoch: 001 | Batch: 000 | Loss: 1.55877 | Correct: 2/16\n",
      "Estimator: 001 | Epoch: 001 | Batch: 000 | Loss: 1.56361 | Correct: 3/16\n",
      "Estimator: 002 | Epoch: 001 | Batch: 000 | Loss: 1.60525 | Correct: 5/16\n",
      "Estimator: 003 | Epoch: 001 | Batch: 000 | Loss: 1.44616 | Correct: 10/16\n",
      "Estimator: 004 | Epoch: 001 | Batch: 000 | Loss: 1.52129 | Correct: 8/16\n",
      "Estimator: 005 | Epoch: 001 | Batch: 000 | Loss: 1.40775 | Correct: 8/16\n",
      "Estimator: 006 | Epoch: 001 | Batch: 000 | Loss: 1.53853 | Correct: 6/16\n",
      "Estimator: 007 | Epoch: 001 | Batch: 000 | Loss: 1.43949 | Correct: 8/16\n",
      "Estimator: 008 | Epoch: 001 | Batch: 000 | Loss: 1.52953 | Correct: 3/16\n",
      "Estimator: 009 | Epoch: 001 | Batch: 000 | Loss: 1.52580 | Correct: 4/16\n",
      "Estimator: 000 | Epoch: 002 | Batch: 000 | Loss: 1.42045 | Correct: 8/16\n",
      "Estimator: 001 | Epoch: 002 | Batch: 000 | Loss: 1.46624 | Correct: 8/16\n",
      "Estimator: 002 | Epoch: 002 | Batch: 000 | Loss: 1.39615 | Correct: 8/16\n"
     ]
    }
   ],
   "source": [
    "ensemble.fit(\n",
    "    train_loader=train_loader,\n",
    "    test_loader=validation_loader,\n",
    "    epochs=NUM_EPOCHS,\n",
    ")\n"
   ]
  },
  {
   "cell_type": "code",
   "execution_count": null,
   "metadata": {},
   "outputs": [],
   "source": [
    "accuracy = ensemble.evaluate(test_loader)\n",
    "print(f\"Accuracy: {accuracy}\")\n"
   ]
  }
 ],
 "metadata": {
  "interpreter": {
   "hash": "66fbc5ca68b17436878331c7d6f57fc7c2a0d60f6d6bab6b896fa750f025e76d"
  },
  "kernelspec": {
   "display_name": "Python 3.9.8 ('venv': venv)",
   "language": "python",
   "name": "python3"
  },
  "language_info": {
   "codemirror_mode": {
    "name": "ipython",
    "version": 3
   },
   "file_extension": ".py",
   "mimetype": "text/x-python",
   "name": "python",
   "nbconvert_exporter": "python",
   "pygments_lexer": "ipython3",
   "version": "3.9.8"
  },
  "orig_nbformat": 4
 },
 "nbformat": 4,
 "nbformat_minor": 2
}
