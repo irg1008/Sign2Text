{
 "cells": [
  {
   "cell_type": "markdown",
   "metadata": {},
   "source": [
    "Using https://ensemble-pytorch.readthedocs.io/en/latest/parameters.html#voting"
   ]
  },
  {
   "cell_type": "code",
   "execution_count": 1,
   "metadata": {},
   "outputs": [],
   "source": [
    "import sys\n",
    "\n",
    "sys.path.insert(1, \"../\")\n",
    "\n",
    "from nets.SimpleNet.lib.simple_model import CNN\n",
    "from nets.SimpleNet.config.torch_config import get_transform\n",
    "from nets.SimpleNet.utils.video_dataset import VideoFrameDataset\n",
    "from nets.SimpleNet.config.dataset import get_dataset_path\n",
    "from nets.SimpleNet.utils.loader import split_dataset\n"
   ]
  },
  {
   "cell_type": "code",
   "execution_count": 2,
   "metadata": {},
   "outputs": [],
   "source": [
    "NUM_SEGMENTS = 10\n",
    "FRAMES_PER_SEGMENT = 5\n",
    "BATCH_SIZE = 16\n",
    "IMAGE_SIZE = 64\n",
    "IMAGE_RANDOM_CROP_RESIZE = 0.8\n",
    "NUM_EPOCHS = 5\n",
    "LEARNING_RATE = 1e-3\n",
    "DEBUG = False\n",
    "\n"
   ]
  },
  {
   "cell_type": "code",
   "execution_count": 3,
   "metadata": {},
   "outputs": [],
   "source": [
    "data_path, model_path = get_dataset_path(dataset=\"WLASL/videos\", model_name=\"WLASL\")"
   ]
  },
  {
   "cell_type": "code",
   "execution_count": 4,
   "metadata": {},
   "outputs": [],
   "source": [
    "multiple_transform = get_transform(IMAGE_SIZE, IMAGE_RANDOM_CROP_RESIZE)"
   ]
  },
  {
   "cell_type": "code",
   "execution_count": 5,
   "metadata": {},
   "outputs": [
    {
     "name": "stdout",
     "output_type": "stream",
     "text": [
      "['before', 'book', 'candy', 'chair', 'clothes']\n"
     ]
    }
   ],
   "source": [
    "dataset = VideoFrameDataset(\n",
    "    root_path=data_path,\n",
    "    transform=multiple_transform,\n",
    "    num_segments=NUM_SEGMENTS,\n",
    "    frames_per_segment=FRAMES_PER_SEGMENT,\n",
    ")\n",
    "\n",
    "classes = dataset.classes\n",
    "print(classes)\n"
   ]
  },
  {
   "cell_type": "code",
   "execution_count": 6,
   "metadata": {},
   "outputs": [],
   "source": [
    "train_loader, test_loader, validation_loader = split_dataset(\n",
    "    dataset, train_split=0.70, validation_split=0.1, batch_size=BATCH_SIZE\n",
    ")\n"
   ]
  },
  {
   "cell_type": "code",
   "execution_count": 7,
   "metadata": {},
   "outputs": [],
   "source": [
    "from torchensemble import VotingClassifier\n",
    "\n",
    "ensemble = VotingClassifier(\n",
    "    estimator=CNN,\n",
    "    estimator_args={\n",
    "        \"num_classes\": len(classes),\n",
    "        \"batch_size\": BATCH_SIZE,\n",
    "        \"num_frames\": FRAMES_PER_SEGMENT * NUM_SEGMENTS,\n",
    "        \"image_size\": int(IMAGE_SIZE * IMAGE_RANDOM_CROP_RESIZE),\n",
    "        \"debug\": DEBUG,\n",
    "    },\n",
    "    n_estimators=1,\n",
    "    cuda=True,\n",
    ")\n"
   ]
  },
  {
   "cell_type": "code",
   "execution_count": 25,
   "metadata": {},
   "outputs": [],
   "source": [
    "from torch import nn, optim\n",
    "from torchensemble.utils.set_module import set_scheduler"
   ]
  },
  {
   "cell_type": "code",
   "execution_count": 26,
   "metadata": {},
   "outputs": [],
   "source": [
    "ensemble.set_criterion(nn.CrossEntropyLoss())"
   ]
  },
  {
   "cell_type": "code",
   "execution_count": 28,
   "metadata": {},
   "outputs": [],
   "source": [
    "# optimizer = optim.Adam(ensemble.parameters(), lr=LEARNING_RATE)\n",
    "ensemble.set_optimizer(\"Adam\", lr=LEARNING_RATE)"
   ]
  },
  {
   "cell_type": "code",
   "execution_count": 37,
   "metadata": {},
   "outputs": [
    {
     "ename": "ValueError",
     "evalue": "optimizer got an empty parameter list",
     "output_type": "error",
     "traceback": [
      "\u001b[1;31m---------------------------------------------------------------------------\u001b[0m",
      "\u001b[1;31mValueError\u001b[0m                                Traceback (most recent call last)",
      "\u001b[1;32md:\\Proyectos\\TFG\\Sign2Text\\Project\\src\\ensemble\\CONV.ipynb Cell 13'\u001b[0m in \u001b[0;36m<cell line: 1>\u001b[1;34m()\u001b[0m\n\u001b[0;32m      <a href='vscode-notebook-cell:/d%3A/Proyectos/TFG/Sign2Text/Project/src/ensemble/CONV.ipynb#ch0000009?line=0'>1</a>\u001b[0m ensemble\u001b[39m.\u001b[39mset_scheduler(\n\u001b[0;32m      <a href='vscode-notebook-cell:/d%3A/Proyectos/TFG/Sign2Text/Project/src/ensemble/CONV.ipynb#ch0000009?line=1'>2</a>\u001b[0m     \u001b[39m\"\u001b[39m\u001b[39mReduceLROnPlateau\u001b[39m\u001b[39m\"\u001b[39m,\n\u001b[1;32m----> <a href='vscode-notebook-cell:/d%3A/Proyectos/TFG/Sign2Text/Project/src/ensemble/CONV.ipynb#ch0000009?line=2'>3</a>\u001b[0m     optimizer\u001b[39m=\u001b[39moptim\u001b[39m.\u001b[39;49m\u001b[39m__dict__\u001b[39;49m[ensemble\u001b[39m.\u001b[39;49moptimizer_name](\n\u001b[0;32m      <a href='vscode-notebook-cell:/d%3A/Proyectos/TFG/Sign2Text/Project/src/ensemble/CONV.ipynb#ch0000009?line=3'>4</a>\u001b[0m         ensemble\u001b[39m.\u001b[39;49mparameters(), lr\u001b[39m=\u001b[39;49mensemble\u001b[39m.\u001b[39;49moptimizer_args[\u001b[39m\"\u001b[39;49m\u001b[39mlr\u001b[39;49m\u001b[39m\"\u001b[39;49m]\n\u001b[0;32m      <a href='vscode-notebook-cell:/d%3A/Proyectos/TFG/Sign2Text/Project/src/ensemble/CONV.ipynb#ch0000009?line=4'>5</a>\u001b[0m     ),\n\u001b[0;32m      <a href='vscode-notebook-cell:/d%3A/Proyectos/TFG/Sign2Text/Project/src/ensemble/CONV.ipynb#ch0000009?line=5'>6</a>\u001b[0m     mode\u001b[39m=\u001b[39m\u001b[39m\"\u001b[39m\u001b[39mmin\u001b[39m\u001b[39m\"\u001b[39m,\n\u001b[0;32m      <a href='vscode-notebook-cell:/d%3A/Proyectos/TFG/Sign2Text/Project/src/ensemble/CONV.ipynb#ch0000009?line=6'>7</a>\u001b[0m     min_lr\u001b[39m=\u001b[39m\u001b[39m1e-6\u001b[39m,\n\u001b[0;32m      <a href='vscode-notebook-cell:/d%3A/Proyectos/TFG/Sign2Text/Project/src/ensemble/CONV.ipynb#ch0000009?line=7'>8</a>\u001b[0m     factor\u001b[39m=\u001b[39m\u001b[39m0.7\u001b[39m,\n\u001b[0;32m      <a href='vscode-notebook-cell:/d%3A/Proyectos/TFG/Sign2Text/Project/src/ensemble/CONV.ipynb#ch0000009?line=8'>9</a>\u001b[0m     patience\u001b[39m=\u001b[39m\u001b[39m5\u001b[39m,\n\u001b[0;32m     <a href='vscode-notebook-cell:/d%3A/Proyectos/TFG/Sign2Text/Project/src/ensemble/CONV.ipynb#ch0000009?line=9'>10</a>\u001b[0m )\n",
      "File \u001b[1;32md:\\Proyectos\\TFG\\Sign2Text\\Project\\venv\\lib\\site-packages\\torch\\optim\\adam.py:74\u001b[0m, in \u001b[0;36mAdam.__init__\u001b[1;34m(self, params, lr, betas, eps, weight_decay, amsgrad)\u001b[0m\n\u001b[0;32m     <a href='file:///d%3A/Proyectos/TFG/Sign2Text/Project/venv/lib/site-packages/torch/optim/adam.py?line=70'>71</a>\u001b[0m     \u001b[39mraise\u001b[39;00m \u001b[39mValueError\u001b[39;00m(\u001b[39m\"\u001b[39m\u001b[39mInvalid weight_decay value: \u001b[39m\u001b[39m{}\u001b[39;00m\u001b[39m\"\u001b[39m\u001b[39m.\u001b[39mformat(weight_decay))\n\u001b[0;32m     <a href='file:///d%3A/Proyectos/TFG/Sign2Text/Project/venv/lib/site-packages/torch/optim/adam.py?line=71'>72</a>\u001b[0m defaults \u001b[39m=\u001b[39m \u001b[39mdict\u001b[39m(lr\u001b[39m=\u001b[39mlr, betas\u001b[39m=\u001b[39mbetas, eps\u001b[39m=\u001b[39meps,\n\u001b[0;32m     <a href='file:///d%3A/Proyectos/TFG/Sign2Text/Project/venv/lib/site-packages/torch/optim/adam.py?line=72'>73</a>\u001b[0m                 weight_decay\u001b[39m=\u001b[39mweight_decay, amsgrad\u001b[39m=\u001b[39mamsgrad)\n\u001b[1;32m---> <a href='file:///d%3A/Proyectos/TFG/Sign2Text/Project/venv/lib/site-packages/torch/optim/adam.py?line=73'>74</a>\u001b[0m \u001b[39msuper\u001b[39;49m(Adam, \u001b[39mself\u001b[39;49m)\u001b[39m.\u001b[39;49m\u001b[39m__init__\u001b[39;49m(params, defaults)\n",
      "File \u001b[1;32md:\\Proyectos\\TFG\\Sign2Text\\Project\\venv\\lib\\site-packages\\torch\\optim\\optimizer.py:49\u001b[0m, in \u001b[0;36mOptimizer.__init__\u001b[1;34m(self, params, defaults)\u001b[0m\n\u001b[0;32m     <a href='file:///d%3A/Proyectos/TFG/Sign2Text/Project/venv/lib/site-packages/torch/optim/optimizer.py?line=46'>47</a>\u001b[0m param_groups \u001b[39m=\u001b[39m \u001b[39mlist\u001b[39m(params)\n\u001b[0;32m     <a href='file:///d%3A/Proyectos/TFG/Sign2Text/Project/venv/lib/site-packages/torch/optim/optimizer.py?line=47'>48</a>\u001b[0m \u001b[39mif\u001b[39;00m \u001b[39mlen\u001b[39m(param_groups) \u001b[39m==\u001b[39m \u001b[39m0\u001b[39m:\n\u001b[1;32m---> <a href='file:///d%3A/Proyectos/TFG/Sign2Text/Project/venv/lib/site-packages/torch/optim/optimizer.py?line=48'>49</a>\u001b[0m     \u001b[39mraise\u001b[39;00m \u001b[39mValueError\u001b[39;00m(\u001b[39m\"\u001b[39m\u001b[39moptimizer got an empty parameter list\u001b[39m\u001b[39m\"\u001b[39m)\n\u001b[0;32m     <a href='file:///d%3A/Proyectos/TFG/Sign2Text/Project/venv/lib/site-packages/torch/optim/optimizer.py?line=49'>50</a>\u001b[0m \u001b[39mif\u001b[39;00m \u001b[39mnot\u001b[39;00m \u001b[39misinstance\u001b[39m(param_groups[\u001b[39m0\u001b[39m], \u001b[39mdict\u001b[39m):\n\u001b[0;32m     <a href='file:///d%3A/Proyectos/TFG/Sign2Text/Project/venv/lib/site-packages/torch/optim/optimizer.py?line=50'>51</a>\u001b[0m     param_groups \u001b[39m=\u001b[39m [{\u001b[39m'\u001b[39m\u001b[39mparams\u001b[39m\u001b[39m'\u001b[39m: param_groups}]\n",
      "\u001b[1;31mValueError\u001b[0m: optimizer got an empty parameter list"
     ]
    }
   ],
   "source": [
    "ensemble.set_scheduler(\n",
    "    \"ReduceLROnPlateau\",\n",
    "    optimizer=optim.__dict__[ensemble.optimizer_name](\n",
    "        ensemble.parameters(), lr=ensemble.optimizer_args[\"lr\"]\n",
    "    ),\n",
    "    mode=\"min\",\n",
    "    min_lr=1e-6,\n",
    "    factor=0.7,\n",
    "    patience=5,\n",
    ")\n"
   ]
  },
  {
   "cell_type": "code",
   "execution_count": 34,
   "metadata": {},
   "outputs": [
    {
     "ename": "AttributeError",
     "evalue": "'ReduceLROnPlateau' object has no attribute 'get_last_lr'",
     "output_type": "error",
     "traceback": [
      "\u001b[1;31m---------------------------------------------------------------------------\u001b[0m",
      "\u001b[1;31mAttributeError\u001b[0m                            Traceback (most recent call last)",
      "\u001b[1;32md:\\Proyectos\\TFG\\Sign2Text\\Project\\src\\ensemble\\CONV.ipynb Cell 13'\u001b[0m in \u001b[0;36m<cell line: 1>\u001b[1;34m()\u001b[0m\n\u001b[1;32m----> <a href='vscode-notebook-cell:/d%3A/Proyectos/TFG/Sign2Text/Project/src/ensemble/CONV.ipynb#ch0000007?line=0'>1</a>\u001b[0m ensemble\u001b[39m.\u001b[39;49mfit(\n\u001b[0;32m      <a href='vscode-notebook-cell:/d%3A/Proyectos/TFG/Sign2Text/Project/src/ensemble/CONV.ipynb#ch0000007?line=1'>2</a>\u001b[0m     train_loader\u001b[39m=\u001b[39;49mtrain_loader,\n\u001b[0;32m      <a href='vscode-notebook-cell:/d%3A/Proyectos/TFG/Sign2Text/Project/src/ensemble/CONV.ipynb#ch0000007?line=2'>3</a>\u001b[0m     test_loader\u001b[39m=\u001b[39;49mvalidation_loader,\n\u001b[0;32m      <a href='vscode-notebook-cell:/d%3A/Proyectos/TFG/Sign2Text/Project/src/ensemble/CONV.ipynb#ch0000007?line=3'>4</a>\u001b[0m     epochs\u001b[39m=\u001b[39;49mNUM_EPOCHS,\n\u001b[0;32m      <a href='vscode-notebook-cell:/d%3A/Proyectos/TFG/Sign2Text/Project/src/ensemble/CONV.ipynb#ch0000007?line=4'>5</a>\u001b[0m )\n",
      "File \u001b[1;32md:\\Proyectos\\TFG\\Sign2Text\\Project\\venv\\lib\\site-packages\\torchensemble\\voting.py:182\u001b[0m, in \u001b[0;36mVotingClassifier.fit\u001b[1;34m(self, train_loader, epochs, log_interval, test_loader, save_model, save_dir)\u001b[0m\n\u001b[0;32m    <a href='file:///d%3A/Proyectos/TFG/Sign2Text/Project/venv/lib/site-packages/torchensemble/voting.py?line=178'>179</a>\u001b[0m \u001b[39mself\u001b[39m\u001b[39m.\u001b[39mtrain()\n\u001b[0;32m    <a href='file:///d%3A/Proyectos/TFG/Sign2Text/Project/venv/lib/site-packages/torchensemble/voting.py?line=180'>181</a>\u001b[0m \u001b[39mif\u001b[39;00m \u001b[39mself\u001b[39m\u001b[39m.\u001b[39muse_scheduler_:\n\u001b[1;32m--> <a href='file:///d%3A/Proyectos/TFG/Sign2Text/Project/venv/lib/site-packages/torchensemble/voting.py?line=181'>182</a>\u001b[0m     cur_lr \u001b[39m=\u001b[39m scheduler_\u001b[39m.\u001b[39;49mget_last_lr()[\u001b[39m0\u001b[39m]\n\u001b[0;32m    <a href='file:///d%3A/Proyectos/TFG/Sign2Text/Project/venv/lib/site-packages/torchensemble/voting.py?line=182'>183</a>\u001b[0m \u001b[39melse\u001b[39;00m:\n\u001b[0;32m    <a href='file:///d%3A/Proyectos/TFG/Sign2Text/Project/venv/lib/site-packages/torchensemble/voting.py?line=183'>184</a>\u001b[0m     cur_lr \u001b[39m=\u001b[39m \u001b[39mNone\u001b[39;00m\n",
      "\u001b[1;31mAttributeError\u001b[0m: 'ReduceLROnPlateau' object has no attribute 'get_last_lr'"
     ]
    }
   ],
   "source": [
    "ensemble.fit(\n",
    "    train_loader=train_loader,\n",
    "    test_loader=validation_loader,\n",
    "    epochs=NUM_EPOCHS,\n",
    ")\n"
   ]
  },
  {
   "cell_type": "code",
   "execution_count": null,
   "metadata": {},
   "outputs": [
    {
     "name": "stdout",
     "output_type": "stream",
     "text": [
      "Accuracy: 44.44444444444444\n"
     ]
    }
   ],
   "source": [
    "accuracy = ensemble.evaluate(test_loader)\n",
    "print(f\"Accuracy: {accuracy}\")\n"
   ]
  }
 ],
 "metadata": {
  "interpreter": {
   "hash": "66fbc5ca68b17436878331c7d6f57fc7c2a0d60f6d6bab6b896fa750f025e76d"
  },
  "kernelspec": {
   "display_name": "Python 3.9.8 ('venv': venv)",
   "language": "python",
   "name": "python3"
  },
  "language_info": {
   "codemirror_mode": {
    "name": "ipython",
    "version": 3
   },
   "file_extension": ".py",
   "mimetype": "text/x-python",
   "name": "python",
   "nbconvert_exporter": "python",
   "pygments_lexer": "ipython3",
   "version": "3.9.8"
  },
  "orig_nbformat": 4
 },
 "nbformat": 4,
 "nbformat_minor": 2
}
