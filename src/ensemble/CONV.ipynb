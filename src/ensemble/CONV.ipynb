{
 "cells": [
  {
   "cell_type": "markdown",
   "metadata": {},
   "source": [
    "Using https://ensemble-pytorch.readthedocs.io/en/latest/parameters.html#voting"
   ]
  },
  {
   "cell_type": "code",
   "execution_count": 1,
   "metadata": {},
   "outputs": [],
   "source": [
    "import sys\n",
    "\n",
    "sys.path.insert(1, \"../\")\n",
    "\n",
    "from nets.SimpleNet.lib.simple_model import CNN\n",
    "from nets.SimpleNet.config.torch_config import get_transform\n",
    "from nets.SimpleNet.utils.video_dataset import VideoFrameDataset\n",
    "from nets.SimpleNet.config.dataset import get_dataset_path\n",
    "from nets.SimpleNet.utils.loader import split_dataset\n"
   ]
  },
  {
   "cell_type": "code",
   "execution_count": 2,
   "metadata": {},
   "outputs": [],
   "source": [
    "NUM_SEGMENTS = 10\n",
    "FRAMES_PER_SEGMENT = 5\n",
    "BATCH_SIZE = 16\n",
    "IMAGE_SIZE = 224\n",
    "IMAGE_RANDOM_CROP_RESIZE = 0.8\n",
    "NUM_EPOCHS = 20\n",
    "LEARNING_RATE = 1e-3\n",
    "DEBUG = False\n"
   ]
  },
  {
   "cell_type": "code",
   "execution_count": 3,
   "metadata": {},
   "outputs": [],
   "source": [
    "data_path, model_path = get_dataset_path(dataset=\"WLASL/videos\", model_name=\"WLASL\")"
   ]
  },
  {
   "cell_type": "code",
   "execution_count": 4,
   "metadata": {},
   "outputs": [],
   "source": [
    "multiple_transform = get_transform(IMAGE_SIZE, IMAGE_RANDOM_CROP_RESIZE)"
   ]
  },
  {
   "cell_type": "code",
   "execution_count": 5,
   "metadata": {},
   "outputs": [
    {
     "name": "stdout",
     "output_type": "stream",
     "text": [
      "['before', 'book', 'candy', 'chair', 'clothes', 'computer', 'cousin', 'drink', 'go', 'who']\n"
     ]
    }
   ],
   "source": [
    "dataset = VideoFrameDataset(\n",
    "    root_path=data_path,\n",
    "    transform=multiple_transform,\n",
    "    num_segments=NUM_SEGMENTS,\n",
    "    frames_per_segment=FRAMES_PER_SEGMENT,\n",
    ")\n",
    "\n",
    "classes = dataset.classes\n",
    "print(classes)\n"
   ]
  },
  {
   "cell_type": "code",
   "execution_count": 6,
   "metadata": {},
   "outputs": [],
   "source": [
    "train_loader, test_loader, validation_loader = split_dataset(\n",
    "    dataset, train_split=0.70, validation_split=0.1, batch_size=BATCH_SIZE\n",
    ")\n"
   ]
  },
  {
   "cell_type": "code",
   "execution_count": 7,
   "metadata": {},
   "outputs": [],
   "source": [
    "from torchensemble import VotingClassifier\n",
    "\n",
    "ensemble = VotingClassifier(\n",
    "    estimator=CNN,\n",
    "    estimator_args={\n",
    "        \"num_classes\": len(classes),\n",
    "        \"batch_size\": BATCH_SIZE,\n",
    "        \"num_frames\": FRAMES_PER_SEGMENT * NUM_SEGMENTS,\n",
    "        \"image_size\": int(IMAGE_SIZE * IMAGE_RANDOM_CROP_RESIZE),\n",
    "        \"debug\": DEBUG,\n",
    "    },\n",
    "    n_estimators=BATCH_SIZE,\n",
    "    cuda=True,\n",
    ")\n"
   ]
  },
  {
   "cell_type": "code",
   "execution_count": 8,
   "metadata": {},
   "outputs": [],
   "source": [
    "from torch import nn, optim\n",
    "from torchensemble.utils.set_module import set_scheduler"
   ]
  },
  {
   "cell_type": "code",
   "execution_count": 9,
   "metadata": {},
   "outputs": [],
   "source": [
    "ensemble.set_criterion(nn.CrossEntropyLoss())"
   ]
  },
  {
   "cell_type": "code",
   "execution_count": 10,
   "metadata": {},
   "outputs": [],
   "source": [
    "# optimizer = optim.Adam(ensemble.parameters(), lr=LEARNING_RATE)\n",
    "ensemble.set_optimizer(\"Adam\", lr=LEARNING_RATE)"
   ]
  },
  {
   "cell_type": "code",
   "execution_count": 11,
   "metadata": {},
   "outputs": [],
   "source": [
    "# ensemble.set_scheduler(\n",
    "#     \"ReduceLROnPlateau\",\n",
    "#     mode=\"min\",\n",
    "#     min_lr=1e-6,\n",
    "#     factor=0.7,\n",
    "#     patience=5,\n",
    "# )\n",
    "\n",
    "ensemble.set_scheduler(\n",
    "    \"CosineAnnealingLR\",\n",
    "    T_max=NUM_EPOCHS,\n",
    "    eta_min=1e-6,\n",
    "    last_epoch=-1,\n",
    ")\n"
   ]
  },
  {
   "cell_type": "code",
   "execution_count": 12,
   "metadata": {},
   "outputs": [
    {
     "name": "stdout",
     "output_type": "stream",
     "text": [
      "Estimator: 000 | Epoch: 000 | Batch: 000 | Loss: 2.32312 | Correct: 1/16\n",
      "Estimator: 000 | Epoch: 001 | Batch: 000 | Loss: 2.03627 | Correct: 3/16\n",
      "Estimator: 000 | Epoch: 002 | Batch: 000 | Loss: 1.87788 | Correct: 5/16\n",
      "Estimator: 000 | Epoch: 003 | Batch: 000 | Loss: 1.75680 | Correct: 6/16\n",
      "Estimator: 000 | Epoch: 004 | Batch: 000 | Loss: 2.02489 | Correct: 4/16\n",
      "Estimator: 000 | Epoch: 005 | Batch: 000 | Loss: 1.66316 | Correct: 6/16\n",
      "Estimator: 000 | Epoch: 006 | Batch: 000 | Loss: 1.85634 | Correct: 4/16\n",
      "Estimator: 000 | Epoch: 007 | Batch: 000 | Loss: 1.86088 | Correct: 7/16\n",
      "Estimator: 000 | Epoch: 008 | Batch: 000 | Loss: 2.15056 | Correct: 3/16\n",
      "Estimator: 000 | Epoch: 009 | Batch: 000 | Loss: 1.89540 | Correct: 4/16\n",
      "Estimator: 000 | Epoch: 010 | Batch: 000 | Loss: 1.68008 | Correct: 7/16\n",
      "Estimator: 000 | Epoch: 011 | Batch: 000 | Loss: 1.84478 | Correct: 7/16\n",
      "Estimator: 000 | Epoch: 012 | Batch: 000 | Loss: 2.26831 | Correct: 1/16\n"
     ]
    }
   ],
   "source": [
    "ensemble.fit(\n",
    "    train_loader=train_loader,\n",
    "    test_loader=validation_loader,\n",
    "    epochs=NUM_EPOCHS,\n",
    ")\n"
   ]
  },
  {
   "cell_type": "code",
   "execution_count": null,
   "metadata": {},
   "outputs": [
    {
     "name": "stdout",
     "output_type": "stream",
     "text": [
      "Accuracy: 10.526315789473685\n"
     ]
    }
   ],
   "source": [
    "accuracy = ensemble.evaluate(test_loader)\n",
    "print(f\"Accuracy: {accuracy}\")\n"
   ]
  }
 ],
 "metadata": {
  "interpreter": {
   "hash": "66fbc5ca68b17436878331c7d6f57fc7c2a0d60f6d6bab6b896fa750f025e76d"
  },
  "kernelspec": {
   "display_name": "Python 3.9.8 ('venv': venv)",
   "language": "python",
   "name": "python3"
  },
  "language_info": {
   "codemirror_mode": {
    "name": "ipython",
    "version": 3
   },
   "file_extension": ".py",
   "mimetype": "text/x-python",
   "name": "python",
   "nbconvert_exporter": "python",
   "pygments_lexer": "ipython3",
   "version": "3.9.8"
  },
  "orig_nbformat": 4
 },
 "nbformat": 4,
 "nbformat_minor": 2
}
