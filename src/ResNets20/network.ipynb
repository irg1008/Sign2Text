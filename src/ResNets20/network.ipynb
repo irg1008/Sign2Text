{
 "cells": [
  {
   "cell_type": "code",
   "execution_count": 1,
   "metadata": {},
   "outputs": [],
   "source": [
    "from os import listdir\n",
    "import cv2\n",
    "from typing import List\n"
   ]
  },
  {
   "cell_type": "markdown",
   "metadata": {},
   "source": [
    "### Function to get label by video id"
   ]
  },
  {
   "cell_type": "code",
   "execution_count": 2,
   "metadata": {},
   "outputs": [],
   "source": [
    "import sys\n",
    "\n",
    "sys.path.insert(0, \"../utils\")\n",
    "\n",
    "from data_reader import get_label_from_id\n"
   ]
  },
  {
   "cell_type": "markdown",
   "metadata": {},
   "source": [
    "### CONFIG"
   ]
  },
  {
   "cell_type": "code",
   "execution_count": 3,
   "metadata": {},
   "outputs": [],
   "source": [
    "n_imgs = 3000"
   ]
  },
  {
   "cell_type": "markdown",
   "metadata": {},
   "source": [
    "### Input folder and img names"
   ]
  },
  {
   "cell_type": "code",
   "execution_count": 4,
   "metadata": {},
   "outputs": [
    {
     "data": {
      "text/plain": [
       "['00295.png', '00333.png', '00335.png', '00336.png', '00337.png']"
      ]
     },
     "execution_count": 4,
     "metadata": {},
     "output_type": "execute_result"
    }
   ],
   "source": [
    "input_folder = \"../../data/WLASL2000_frames\"\n",
    "input_img_names = listdir(input_folder)\n",
    "\n",
    "# Cut off the first n_imgs images\n",
    "input_img_names = input_img_names[:n_imgs]\n",
    "\n",
    "input_img_names[:5]"
   ]
  },
  {
   "cell_type": "markdown",
   "metadata": {},
   "source": [
    "#### Randomize the order of the images"
   ]
  },
  {
   "cell_type": "code",
   "execution_count": 5,
   "metadata": {},
   "outputs": [
    {
     "data": {
      "text/plain": [
       "['03760.png', '06432.png', '02146.png', '08901.png', '10089.png']"
      ]
     },
     "execution_count": 5,
     "metadata": {},
     "output_type": "execute_result"
    }
   ],
   "source": [
    "import random\n",
    "\n",
    "random.shuffle(input_img_names)\n",
    "\n",
    "input_img_names[:5]"
   ]
  },
  {
   "cell_type": "markdown",
   "metadata": {},
   "source": [
    "### Divide input imgs in train, validation and test"
   ]
  },
  {
   "cell_type": "code",
   "execution_count": 6,
   "metadata": {},
   "outputs": [],
   "source": [
    "input_len = len(input_img_names)\n",
    "(train, test, validation) = [int(perc * input_len) for perc in [0.7, 0.2, 0.1]]\n",
    "\n",
    "train_imgs = input_img_names[:train]\n",
    "test_imgs = input_img_names[train : train + test]\n",
    "validation_imgs = input_img_names[train + test :]\n"
   ]
  },
  {
   "cell_type": "markdown",
   "metadata": {},
   "source": [
    "### Get labels for train, test and validations imgs"
   ]
  },
  {
   "cell_type": "code",
   "execution_count": 7,
   "metadata": {},
   "outputs": [],
   "source": [
    "def get_labels_from_set(set: List[str]) -> List[str]:\n",
    "    labels = [get_label_from_id(img.split(\".\")[0]) for img in set]\n",
    "    return labels\n",
    "\n",
    "\n",
    "train_labels = get_labels_from_set(train_imgs)\n",
    "test_labels = get_labels_from_set(test_imgs)\n",
    "validation_labels = get_labels_from_set(validation_imgs)\n"
   ]
  },
  {
   "cell_type": "markdown",
   "metadata": {},
   "source": [
    "### Entrenar red de clasificación"
   ]
  },
  {
   "cell_type": "markdown",
   "metadata": {},
   "source": [
    "### Mostrar imagen"
   ]
  },
  {
   "cell_type": "code",
   "execution_count": 8,
   "metadata": {},
   "outputs": [
    {
     "data": {
      "text/plain": [
       "-1"
      ]
     },
     "execution_count": 8,
     "metadata": {},
     "output_type": "execute_result"
    }
   ],
   "source": [
    "image = cv2.imread(f\"{input_folder}/{input_img_names[1]}\")\n",
    "cv2.imshow(\"image\", image)\n",
    "cv2.waitKey(0)\n"
   ]
  }
 ],
 "metadata": {
  "interpreter": {
   "hash": "0e56335990ab617e20d6145e4b9769f2a0c38ec2a51571f2cf9b60e2973b4d12"
  },
  "kernelspec": {
   "display_name": "Python 3.9.10 64-bit",
   "language": "python",
   "name": "python3"
  },
  "language_info": {
   "codemirror_mode": {
    "name": "ipython",
    "version": 3
   },
   "file_extension": ".py",
   "mimetype": "text/x-python",
   "name": "python",
   "nbconvert_exporter": "python",
   "pygments_lexer": "ipython3",
   "version": "3.9.10"
  },
  "orig_nbformat": 4
 },
 "nbformat": 4,
 "nbformat_minor": 2
}
