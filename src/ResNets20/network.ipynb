{
 "cells": [
  {
   "cell_type": "code",
   "execution_count": 27,
   "metadata": {},
   "outputs": [],
   "source": [
    "from os import (\n",
    "    listdir,\n",
    ")\n",
    "import cv2\n",
    "from typing import (\n",
    "    List,\n",
    ")"
   ]
  },
  {
   "cell_type": "markdown",
   "metadata": {},
   "source": [
    "### Function to get label by video id"
   ]
  },
  {
   "cell_type": "code",
   "execution_count": 28,
   "metadata": {},
   "outputs": [],
   "source": [
    "import sys\n",
    "\n",
    "sys.path.insert(\n",
    "    0,\n",
    "    \"../utils\",\n",
    ")\n",
    "\n",
    "from data_reader import (\n",
    "    get_label_from_id,\n",
    ")"
   ]
  },
  {
   "cell_type": "markdown",
   "metadata": {},
   "source": [
    "### CONFIG"
   ]
  },
  {
   "cell_type": "code",
   "execution_count": 29,
   "metadata": {},
   "outputs": [],
   "source": [
    "n_imgs = 3000"
   ]
  },
  {
   "cell_type": "markdown",
   "metadata": {},
   "source": [
    "### Input folder and img names"
   ]
  },
  {
   "cell_type": "code",
   "execution_count": 30,
   "metadata": {},
   "outputs": [
    {
     "data": {
      "text/plain": [
       "['00295.png', '00333.png', '00335.png', '00336.png', '00337.png']"
      ]
     },
     "execution_count": 30,
     "metadata": {},
     "output_type": "execute_result"
    }
   ],
   "source": [
    "input_folder = \"../../data/WLASL2000_frames\"\n",
    "input_img_names = listdir(input_folder)\n",
    "\n",
    "# Cut off the first n_imgs images\n",
    "input_img_names = input_img_names[:n_imgs]\n",
    "\n",
    "input_img_names[:5]"
   ]
  },
  {
   "cell_type": "markdown",
   "metadata": {},
   "source": [
    "#### Randomize the order of the images"
   ]
  },
  {
   "cell_type": "code",
   "execution_count": 31,
   "metadata": {},
   "outputs": [
    {
     "data": {
      "text/plain": [
       "['07634.png', '07301.png', '04001.png', '06822.png', '07068.png']"
      ]
     },
     "execution_count": 31,
     "metadata": {},
     "output_type": "execute_result"
    }
   ],
   "source": [
    "import random\n",
    "\n",
    "random.shuffle(input_img_names)\n",
    "\n",
    "input_img_names[:5]"
   ]
  },
  {
   "cell_type": "markdown",
   "metadata": {},
   "source": [
    "### Divide input imgs in train, validation and test"
   ]
  },
  {
   "cell_type": "code",
   "execution_count": 32,
   "metadata": {},
   "outputs": [],
   "source": [
    "input_len = len(input_img_names)\n",
    "(train, test, validation,) = [\n",
    "    int(perc * input_len)\n",
    "    for perc in [\n",
    "        0.7,\n",
    "        0.2,\n",
    "        0.1,\n",
    "    ]\n",
    "]\n",
    "\n",
    "train_imgs = input_img_names[:train]\n",
    "test_imgs = input_img_names[train : train + test]\n",
    "validation_imgs = input_img_names[train + test :]"
   ]
  },
  {
   "cell_type": "markdown",
   "metadata": {},
   "source": [
    "### Get labels for train, test and validations imgs"
   ]
  },
  {
   "cell_type": "code",
   "execution_count": 37,
   "metadata": {},
   "outputs": [],
   "source": [
    "def get_labels_from_set(\n",
    "    set: List[str],\n",
    ") -> List[str]:\n",
    "    labels = [get_label_from_id(img.split(\".\")[0]) for img in set]\n",
    "    return labels\n",
    "\n",
    "\n",
    "train_labels = get_labels_from_set(train_imgs)\n",
    "test_labels = get_labels_from_set(test_imgs)\n",
    "validation_labels = get_labels_from_set(validation_imgs)"
   ]
  },
  {
   "cell_type": "markdown",
   "metadata": {},
   "source": [
    "### Entrenar red de clasificación"
   ]
  },
  {
   "cell_type": "markdown",
   "metadata": {},
   "source": [
    "### Mostrar imagen"
   ]
  },
  {
   "cell_type": "code",
   "execution_count": 34,
   "metadata": {},
   "outputs": [
    {
     "data": {
      "text/plain": [
       "-1"
      ]
     },
     "execution_count": 34,
     "metadata": {},
     "output_type": "execute_result"
    }
   ],
   "source": [
    "image = cv2.imread(f\"{input_folder}/{input_img_names[1]}\")\n",
    "cv2.imshow(\n",
    "    \"image\",\n",
    "    image,\n",
    ")\n",
    "cv2.waitKey(0)"
   ]
  }
 ],
 "metadata": {
  "interpreter": {
   "hash": "0e56335990ab617e20d6145e4b9769f2a0c38ec2a51571f2cf9b60e2973b4d12"
  },
  "kernelspec": {
   "display_name": "Python 3.9.10 64-bit",
   "language": "python",
   "name": "python3"
  },
  "language_info": {
   "codemirror_mode": {
    "name": "ipython",
    "version": 3
   },
   "file_extension": ".py",
   "mimetype": "text/x-python",
   "name": "python",
   "nbconvert_exporter": "python",
   "pygments_lexer": "ipython3",
   "version": "3.9.10"
  },
  "orig_nbformat": 4
 },
 "nbformat": 4,
 "nbformat_minor": 2
}
